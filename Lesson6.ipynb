{
  "nbformat": 4,
  "nbformat_minor": 0,
  "metadata": {
    "colab": {
      "name": "Lesson6.ipynb",
      "provenance": [],
      "authorship_tag": "ABX9TyNM11DaQ607NeN0+GzOjNC6",
      "include_colab_link": true
    },
    "kernelspec": {
      "name": "python3",
      "display_name": "Python 3"
    },
    "language_info": {
      "name": "python"
    }
  },
  "cells": [
    {
      "cell_type": "markdown",
      "metadata": {
        "id": "view-in-github",
        "colab_type": "text"
      },
      "source": [
        "<a href=\"https://colab.research.google.com/github/bkvkrll/Data-analysis-algorithms/blob/main/Lesson6.ipynb\" target=\"_parent\"><img src=\"https://colab.research.google.com/assets/colab-badge.svg\" alt=\"Open In Colab\"/></a>"
      ]
    },
    {
      "cell_type": "markdown",
      "source": [
        "1. Для реализованной модели градиентного бустинга построить графики зависимости ошибки от количества деревьев в ансамбле и от максимальной глубины деревьев. Сделать выводы о зависимости ошибки от этих параметров.\n",
        "\n"
      ],
      "metadata": {
        "id": "6MNU-DU3Mw7t"
      }
    },
    {
      "cell_type": "code",
      "execution_count": 33,
      "metadata": {
        "id": "mc5sy12uManu"
      },
      "outputs": [],
      "source": [
        "import numpy as np\n",
        "\n",
        "import matplotlib.pyplot as plt\n",
        "import matplotlib\n",
        "%matplotlib inline\n",
        "\n",
        "from sklearn.tree import DecisionTreeRegressor\n",
        "from sklearn import model_selection\n",
        "from sklearn.datasets import load_diabetes\n"
      ]
    },
    {
      "cell_type": "code",
      "source": [
        "X, y = load_diabetes(return_X_y=True)\n",
        "X.shape, y.shape"
      ],
      "metadata": {
        "colab": {
          "base_uri": "https://localhost:8080/"
        },
        "id": "fByEZGggM0Br",
        "outputId": "93e0c01c-0583-4e2a-c91a-d19720d54399"
      },
      "execution_count": 34,
      "outputs": [
        {
          "output_type": "execute_result",
          "data": {
            "text/plain": [
              "((442, 10), (442,))"
            ]
          },
          "metadata": {},
          "execution_count": 34
        }
      ]
    },
    {
      "cell_type": "code",
      "source": [
        "X_train, X_test, y_train, y_test = model_selection.train_test_split(X, y, test_size=0.25)"
      ],
      "metadata": {
        "id": "RMNRlJeINI1D"
      },
      "execution_count": 35,
      "outputs": []
    },
    {
      "cell_type": "code",
      "source": [
        "def gb_predict(X, trees_list, eta):\n",
        "    # Реализуемый алгоритм градиентного бустинга будет инициализироваться нулевыми значениями,\n",
        "    # поэтому все деревья из списка trees_list уже являются дополнительными и при предсказании\n",
        "    # прибавляются с шагом eta\n",
        "    \n",
        "#     predictions = np.zeros(X.shape[0])\n",
        "#     for i, x in enumerate(X):\n",
        "#         prediction = 0\n",
        "#         for alg in trees_list:\n",
        "#             prediction += eta * alg.predict([x])[0]\n",
        "#         predictions[i] = prediction\n",
        "        \n",
        "    predictions = np.array(\n",
        "        [sum([eta * alg.predict([x])[0] for alg in trees_list]) for x in X]\n",
        "    )\n",
        "\n",
        "    return predictions"
      ],
      "metadata": {
        "id": "Z-TiffrmNLik"
      },
      "execution_count": 36,
      "outputs": []
    },
    {
      "cell_type": "code",
      "source": [
        "def mean_squared_error(y_real, prediction):\n",
        "    return (sum((y_real - prediction)**2)) / len(y_real)"
      ],
      "metadata": {
        "id": "i18t7FzdNXvJ"
      },
      "execution_count": 37,
      "outputs": []
    },
    {
      "cell_type": "code",
      "source": [
        "def residual(y, z):\n",
        "    return - (z - y)"
      ],
      "metadata": {
        "id": "LDZmI-puNaiz"
      },
      "execution_count": 38,
      "outputs": []
    },
    {
      "cell_type": "code",
      "source": [
        "def gb_fit(n_trees, max_depth, X_train, X_test, y_train, y_test, eta):\n",
        "    \n",
        "    # Деревья будем записывать в список\n",
        "    trees = []\n",
        "    \n",
        "    # Будем записывать ошибки на обучающей и тестовой выборке на каждой итерации в список\n",
        "    train_errors = []\n",
        "    test_errors = []\n",
        "    \n",
        "    for i in range(n_trees):\n",
        "        tree = DecisionTreeRegressor(max_depth=max_depth, random_state=42)\n",
        "\n",
        "        # первый алгоритм просто обучаем на выборке и добавляем в список\n",
        "        if len(trees) == 0:\n",
        "            # обучаем первое дерево на обучающей выборке\n",
        "            tree.fit(X_train, y_train)\n",
        "            \n",
        "            train_errors.append(mean_squared_error(y_train, gb_predict(X_train, trees, eta)))\n",
        "            test_errors.append(mean_squared_error(y_test, gb_predict(X_test, trees, eta)))\n",
        "        else:\n",
        "            # Получим ответы на текущей композиции\n",
        "            target = gb_predict(X_train, trees, eta)\n",
        "            \n",
        "            # алгоритмы начиная со второго обучаем на сдвиг\n",
        "            tree.fit(X_train, residual(y_train, target))\n",
        "            \n",
        "            train_errors.append(mean_squared_error(y_train, gb_predict(X_train, trees, eta)))\n",
        "            test_errors.append(mean_squared_error(y_test, gb_predict(X_test, trees, eta)))\n",
        "\n",
        "        trees.append(tree)\n",
        "        \n",
        "    return trees, train_errors, test_errors"
      ],
      "metadata": {
        "id": "wwz6qEW0Nd5S"
      },
      "execution_count": 39,
      "outputs": []
    },
    {
      "cell_type": "code",
      "source": [
        "# Число деревьев в ансамбле\n",
        "n_trees = 10\n",
        "\n",
        "# Максимальная глубина деревьев\n",
        "max_depth = 3\n",
        "\n",
        "# Шаг\n",
        "eta = 1\n",
        "\n",
        "trees, train_errors, test_errors = gb_fit(n_trees, max_depth, X_train, X_test, y_train, y_test, eta)"
      ],
      "metadata": {
        "id": "7siKFgTgNsR5"
      },
      "execution_count": 40,
      "outputs": []
    },
    {
      "cell_type": "code",
      "source": [
        "def evaluate_alg(X_train, X_test, y_train, y_test, trees, eta):\n",
        "    train_prediction = gb_predict(X_train, trees, eta)\n",
        "\n",
        "    print(f'Ошибка алгоритма из {n_trees} деревьев глубиной {max_depth} \\\n",
        "    с шагом {eta} на тренировочной выборке: {mean_squared_error(y_train, train_prediction)}')\n",
        "\n",
        "    test_prediction = gb_predict(X_test, trees, eta)\n",
        "\n",
        "    print(f'Ошибка алгоритма из {n_trees} деревьев глубиной {max_depth} \\\n",
        "    с шагом {eta} на тестовой выборке: {mean_squared_error(y_test, test_prediction)}')"
      ],
      "metadata": {
        "id": "RLpBusZCNs0m"
      },
      "execution_count": 41,
      "outputs": []
    },
    {
      "cell_type": "code",
      "source": [
        "evaluate_alg(X_train, X_test, y_train, y_test, trees, eta)"
      ],
      "metadata": {
        "colab": {
          "base_uri": "https://localhost:8080/"
        },
        "id": "q8A37Q-HNwMz",
        "outputId": "b9f23477-e84d-4245-e966-cb1c917c4671"
      },
      "execution_count": 42,
      "outputs": [
        {
          "output_type": "stream",
          "name": "stdout",
          "text": [
            "Ошибка алгоритма из 10 деревьев глубиной 3     с шагом 1 на тренировочной выборке: 1040.3690577986572\n",
            "Ошибка алгоритма из 10 деревьев глубиной 3     с шагом 1 на тестовой выборке: 5587.359242091183\n"
          ]
        }
      ]
    },
    {
      "cell_type": "code",
      "source": [
        "def get_error_plot(n_trees, train_err, test_err):\n",
        "    plt.xlabel('Iteration number')\n",
        "    plt.ylabel('MSE')\n",
        "    plt.xlim(0, n_trees)\n",
        "    plt.plot(list(range(n_trees)), train_err, label='train error')\n",
        "    plt.plot(list(range(n_trees)), test_err, label='test error')\n",
        "    plt.legend(loc='upper right')\n",
        "    plt.show()"
      ],
      "metadata": {
        "id": "YMd0-rHrOCco"
      },
      "execution_count": 43,
      "outputs": []
    },
    {
      "cell_type": "code",
      "source": [
        "get_error_plot(n_trees, train_errors, test_errors)"
      ],
      "metadata": {
        "colab": {
          "base_uri": "https://localhost:8080/",
          "height": 278
        },
        "id": "hzC6m2yBOEpA",
        "outputId": "7821eb12-08bb-4098-ad92-e6e24c454c1f"
      },
      "execution_count": 44,
      "outputs": [
        {
          "output_type": "display_data",
          "data": {
            "image/png": "[encoded data removed]",
            "text/plain": [
              "<Figure size 432x288 with 1 Axes>"
            ]
          },
          "metadata": {
            "needs_background": "light"
          }
        }
      ]
    },
    {
      "cell_type": "markdown",
      "source": [
        "Изменим число деревьев, глубину и шаг"
      ],
      "metadata": {
        "id": "T68gHat6QwFF"
      }
    },
    {
      "cell_type": "code",
      "source": [
        "n_trees = 20\n",
        "max_depth = 10\n",
        "eta = 0.1\n",
        "train_errors_arr = []\n",
        "test_errors_arr = []\n",
        "\n",
        "for i in list(range(1, max_depth)):\n",
        "    trees, train_errors, test_errors = gb_fit(n_trees, i, X_train, X_test, y_train, y_test, eta)\n",
        "    train_prediction = gb_predict(X_train, trees, eta)\n",
        "    test_prediction = gb_predict(X_test, trees, eta)\n",
        "    train_err = mean_squared_error(y_train, train_prediction)\n",
        "    test_err = mean_squared_error(y_test, test_prediction)\n",
        "    train_errors_arr.append(train_err)\n",
        "    test_errors_arr.append(test_err)"
      ],
      "metadata": {
        "id": "wOaGx8VoObgC"
      },
      "execution_count": 47,
      "outputs": []
    },
    {
      "cell_type": "code",
      "source": [
        "def depth_error_plot(max_depth, train_err, test_err):\n",
        "    plt.xlabel('tree_depth')\n",
        "    plt.ylabel('MSE')\n",
        "    plt.xlim(0, max_depth)\n",
        "    plt.plot(list(range(1, max_depth)), train_err, label='train error')\n",
        "    plt.plot(list(range(1, max_depth)), test_err, label='test error')\n",
        "    plt.title('Зависимость ошибки от максимальной глубины деревьев')\n",
        "    plt.legend(loc='upper right')\n",
        "    plt.show()"
      ],
      "metadata": {
        "id": "oTk6pSAtOdz8"
      },
      "execution_count": 48,
      "outputs": []
    },
    {
      "cell_type": "code",
      "source": [
        "depth_error_plot(max_depth, train_errors_arr, test_errors_arr)"
      ],
      "metadata": {
        "colab": {
          "base_uri": "https://localhost:8080/",
          "height": 295
        },
        "id": "o0VZsPkrOfvX",
        "outputId": "012f5666-3580-4a34-9233-814321412be0"
      },
      "execution_count": 49,
      "outputs": [
        {
          "output_type": "display_data",
          "data": {
            "image/png": "[encoded data removed]",
            "text/plain": [
              "<Figure size 432x288 with 1 Axes>"
            ]
          },
          "metadata": {
            "needs_background": "light"
          }
        }
      ]
    },
    {
      "cell_type": "markdown",
      "source": [
        "Из графика видно, что при увеличении количества деревтев ошибка на тренировочной выборке уменьшается. В тоже время при увеличении глубины дерева  ошибка на тренировочной выборке уменьшается, но на тестовой,начинает расти."
      ],
      "metadata": {
        "id": "lpOcxG3CQJGg"
      }
    },
    {
      "cell_type": "code",
      "source": [
        ""
      ],
      "metadata": {
        "id": "flp3YiD_QqON"
      },
      "execution_count": null,
      "outputs": []
    }
  ]
}