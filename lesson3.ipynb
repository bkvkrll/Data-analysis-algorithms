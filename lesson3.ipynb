{
  "nbformat": 4,
  "nbformat_minor": 0,
  "metadata": {
    "colab": {
      "name": "lesson3.ipynb",
      "provenance": [],
      "authorship_tag": "ABX9TyNPk24KVvvVwU8vGtIzPvYw",
      "include_colab_link": true
    },
    "kernelspec": {
      "name": "python3",
      "display_name": "Python 3"
    },
    "language_info": {
      "name": "python"
    }
  },
  "cells": [
    {
      "cell_type": "markdown",
      "metadata": {
        "id": "view-in-github",
        "colab_type": "text"
      },
      "source": [
        "<a href=\"https://colab.research.google.com/github/bkvkrll/Data-analysis-algorithms/blob/main/lesson3.ipynb\" target=\"_parent\"><img src=\"https://colab.research.google.com/assets/colab-badge.svg\" alt=\"Open In Colab\"/></a>"
      ]
    },
    {
      "cell_type": "code",
      "execution_count": 26,
      "metadata": {
        "id": "Dl6AMcJfwGeL"
      },
      "outputs": [],
      "source": [
        "import numpy as np\n",
        "import matplotlib.pyplot as plt"
      ]
    },
    {
      "cell_type": "code",
      "source": [
        "X = np.array([ [   1,    1,  500,    1],\n",
        "               [   1,    1,  700,    1],\n",
        "               [   1,    2,  750,    2],\n",
        "               [   1,    5,  600,    1],\n",
        "               [   1,    3, 1450,    2],\n",
        "               [   1,    0,  800,    1],\n",
        "               [   1,    5, 1500,    3],\n",
        "               [   1,   10, 2000,    3],\n",
        "               [   1,    1,  450,    1],\n",
        "               [   1,    2, 1000,    2]], dtype=np.float64)\n",
        "\n",
        "y = np.array([0, 0, 1, 0, 1, 0, 1, 0, 1, 1], dtype=np.float64)"
      ],
      "metadata": {
        "id": "USRy5KPSwMP7"
      },
      "execution_count": 27,
      "outputs": []
    },
    {
      "cell_type": "code",
      "source": [
        "def standard_scale(x):\n",
        "    res = (x - x.mean()) / x.std()\n",
        "    return res"
      ],
      "metadata": {
        "id": "BUexBQHUwOlF"
      },
      "execution_count": 28,
      "outputs": []
    },
    {
      "cell_type": "code",
      "source": [
        "X_st = X.copy()\n",
        "X_st[:, 2] = standard_scale(X[:, 2])"
      ],
      "metadata": {
        "id": "YCEJVutcwRjs"
      },
      "execution_count": 29,
      "outputs": []
    },
    {
      "cell_type": "code",
      "source": [
        "def calc_logloss(y, y_pred):\n",
        "    err = - np.mean(y * np.log(y_pred) + (1.0 - y) * np.log(1.0 - y_pred))\n",
        "    return err"
      ],
      "metadata": {
        "id": "ZIVDEPZlwUjE"
      },
      "execution_count": 30,
      "outputs": []
    },
    {
      "cell_type": "code",
      "source": [
        "def sigmoid(z):\n",
        "    res = 1 / (1 + np.exp(-z))\n",
        "    return res"
      ],
      "metadata": {
        "id": "wEpfOxKDwWq-"
      },
      "execution_count": 31,
      "outputs": []
    },
    {
      "cell_type": "code",
      "source": [
        "z = np.linspace(-10, 10, 101)"
      ],
      "metadata": {
        "id": "zD1HuQ52wZr_"
      },
      "execution_count": 32,
      "outputs": []
    },
    {
      "cell_type": "code",
      "source": [
        "probabilities = sigmoid(z)"
      ],
      "metadata": {
        "id": "2tqFblMSwbWF"
      },
      "execution_count": 33,
      "outputs": []
    },
    {
      "cell_type": "code",
      "source": [
        "plt.plot(z, probabilities)\n",
        "plt.show()"
      ],
      "metadata": {
        "colab": {
          "base_uri": "https://localhost:8080/",
          "height": 264
        },
        "id": "7ac8P4dZwc_k",
        "outputId": "9b0909ea-4648-46bf-ce7e-19e71ef04a8f"
      },
      "execution_count": 34,
      "outputs": [
        {
          "output_type": "display_data",
          "data": {
            "image/png": "[encoded data removed]",
            "text/plain": [
              "<Figure size 432x288 with 1 Axes>"
            ]
          },
          "metadata": {
            "needs_background": "light"
          }
        }
      ]
    },
    {
      "cell_type": "code",
      "source": [
        "def eval_model(X, y, iterations, eta=1e-4):\n",
        "    np.random.seed(42)\n",
        "    W = np.random.randn(X.shape[1])\n",
        "    n = X.shape[0]\n",
        "    \n",
        "    for i in range(iterations):\n",
        "        z = np.dot(X, W)\n",
        "        y_pred = sigmoid(z)\n",
        "        err = calc_logloss(y, y_pred)\n",
        "        \n",
        "        dQ = 1/n * X.T @ (y_pred - y)\n",
        "        W -= eta * dQ\n",
        "        if i % (iterations / 10) == 0:\n",
        "            print(i, W, err)\n",
        "    return W"
      ],
      "metadata": {
        "id": "ePX5CstCwfH1"
      },
      "execution_count": 35,
      "outputs": []
    },
    {
      "cell_type": "code",
      "source": [
        "W = eval_model(X_st, y, iterations=500, eta=1e-4)"
      ],
      "metadata": {
        "colab": {
          "base_uri": "https://localhost:8080/"
        },
        "id": "_C8MTsMEwg6k",
        "outputId": "00b90124-2b00-4d18-b137-e3ab6f12290b"
      },
      "execution_count": 36,
      "outputs": [
        {
          "output_type": "stream",
          "name": "stdout",
          "text": [
            "0 [ 0.49667621 -0.13840939  0.6476858   1.52297324] 1.1785958344356262\n",
            "50 [ 0.494784   -0.14564801  0.6475462   1.52014828] 1.1657985749255426\n",
            "100 [ 0.49290109 -0.15285535  0.64740132  1.51733474] 1.1531112685708473\n",
            "150 [ 0.49102761 -0.16003088  0.64725118  1.51453281] 1.140535275330502\n",
            "200 [ 0.48916364 -0.16717404  0.64709581  1.51174267] 1.1280719326917483\n",
            "250 [ 0.48730929 -0.17428428  0.64693524  1.50896452] 1.1157225565960736\n",
            "300 [ 0.48546465 -0.18136107  0.64676951  1.50619853] 1.1034884426224387\n",
            "350 [ 0.48362982 -0.18840385  0.64659868  1.5034449 ] 1.0913708674192037\n",
            "400 [ 0.48180488 -0.19541206  0.64642281  1.50070383] 1.0793710903721336\n",
            "450 [ 0.47998993 -0.20238516  0.64624195  1.49797551] 1.0674903554915993\n"
          ]
        }
      ]
    },
    {
      "cell_type": "markdown",
      "source": [
        "1. *Измените функцию calc_logloss так, чтобы нули по возможности не попадали в np.log."
      ],
      "metadata": {
        "id": "pXqh46cawmFk"
      }
    },
    {
      "cell_type": "code",
      "source": [
        "def calc_logloss(y, y_pred):\n",
        "    err = - np.mean(y * np.log(y_pred, where=(y_pred!=0)) + (1.0 - y) * np.log(1.0 - y_pred, where=(1-y_pred!=0)))\n",
        "    err = np.sum(err)\n",
        "    return err"
      ],
      "metadata": {
        "id": "dP7JG5S2wnkF"
      },
      "execution_count": 37,
      "outputs": []
    },
    {
      "cell_type": "code",
      "source": [
        "y1 = np.array([1, 0])\n",
        "y_pred1 = np.array([1, 0.2])\n",
        "calc_logloss(y1, y_pred1)"
      ],
      "metadata": {
        "colab": {
          "base_uri": "https://localhost:8080/"
        },
        "id": "FKuTGa4ew35U",
        "outputId": "e3622883-6a9c-4379-a0aa-2ba76ec52429"
      },
      "execution_count": 38,
      "outputs": [
        {
          "output_type": "execute_result",
          "data": {
            "text/plain": [
              "0.11157177565710485"
            ]
          },
          "metadata": {},
          "execution_count": 38
        }
      ]
    },
    {
      "cell_type": "markdown",
      "source": [
        " 2. Подберите аргументы функции eval_model для логистической регрессии таким образом, чтобы log loss был минимальным."
      ],
      "metadata": {
        "id": "S9GvBjEYxMJO"
      }
    },
    {
      "cell_type": "code",
      "source": [
        "W = eval_model(X_st, y, iterations=5000, eta=42)"
      ],
      "metadata": {
        "colab": {
          "base_uri": "https://localhost:8080/"
        },
        "id": "CJSQvSuHxRHz",
        "outputId": "af9737f4-0cc9-47c8-cba5-fd1163cbfb92"
      },
      "execution_count": 39,
      "outputs": [
        {
          "output_type": "stream",
          "name": "stdout",
          "text": [
            "0 [-15.43753488 -61.07505588  -0.50228904 -22.25511343] 1.1785958344356262\n",
            "500 [-252.19890598  -34.4848621   -63.34514697  221.376307  ] 0.007530457731680984\n",
            "1000 [-254.09626212  -36.05501623  -68.54111214  219.48973536] 0.005770169003483429\n",
            "1500 [-255.87406591  -35.33920588  -70.12622291  218.93275464] 0.005382132183353788\n",
            "2000 [-257.60777494  -34.23380052  -71.04454859  218.61418236] 0.005135732659160815\n",
            "2500 [-259.26232144  -33.18067408  -71.92020345  218.31265674] 0.004911651020712981\n",
            "3000 [-260.84654397  -32.17263136  -72.75849817  218.02440438] 0.004706273272216319\n",
            "3500 [-262.36647447  -31.20555527  -73.56273757  217.74794253] 0.0045172406660748225\n",
            "4000 [-263.82714521  -30.27619117  -74.33560723  217.48228136] 0.004342665739901992\n",
            "4500 [-265.2329736   -29.38171829  -75.07945013  217.22660172] 0.0041809566302819555\n"
          ]
        }
      ]
    },
    {
      "cell_type": "markdown",
      "source": [
        "3. Создайте функцию calc_pred_proba, возвращающую предсказанную вероятность класса 1 (на вход подаются W, который уже посчитан функцией eval_model и X, на выходе - массив y_pred_proba)."
      ],
      "metadata": {
        "id": "-2UKDtbQx0ta"
      }
    },
    {
      "cell_type": "code",
      "source": [
        "def calc_pred_proba(X, W):\n",
        "    y_pred_proba = np.floor(sigmoid(np.dot(X, W)))\n",
        "    return y_pred_proba"
      ],
      "metadata": {
        "id": "GX0cPNsTx4Lh"
      },
      "execution_count": 42,
      "outputs": []
    },
    {
      "cell_type": "code",
      "source": [
        "calc_pred_proba(X, W)"
      ],
      "metadata": {
        "colab": {
          "base_uri": "https://localhost:8080/"
        },
        "id": "krWqRt25yTLY",
        "outputId": "036db6bf-39b2-47b5-9aa9-3d600a3dd9b7"
      },
      "execution_count": 43,
      "outputs": [
        {
          "output_type": "stream",
          "name": "stderr",
          "text": [
            "/usr/local/lib/python3.7/dist-packages/ipykernel_launcher.py:2: RuntimeWarning: overflow encountered in exp\n",
            "  \n"
          ]
        },
        {
          "output_type": "execute_result",
          "data": {
            "text/plain": [
              "array([0., 0., 0., 0., 0., 0., 0., 0., 0., 0.])"
            ]
          },
          "metadata": {},
          "execution_count": 43
        }
      ]
    },
    {
      "cell_type": "markdown",
      "source": [
        "4. Создайте функцию calc_pred, возвращающую предсказанный класс (на вход подаются W, который уже посчитан функцией eval_model и X, на выходе - массив y_pred)."
      ],
      "metadata": {
        "id": "erIOo1kIycIQ"
      }
    },
    {
      "cell_type": "code",
      "source": [
        "def calc_pred(W, X, threshold):\n",
        "    z = np.dot(X, W)\n",
        "    y_pred = sigmoid(z)\n",
        "    y_pred[y_pred > threshold] = 1\n",
        "    y_pred[y_pred < 1] = 0\n",
        "    return  y_pred"
      ],
      "metadata": {
        "id": "YYT_B0yKyfTv"
      },
      "execution_count": 44,
      "outputs": []
    },
    {
      "cell_type": "code",
      "source": [
        "y_pred = calc_pred(W, X_st, 0.5)\n",
        "y_pred"
      ],
      "metadata": {
        "colab": {
          "base_uri": "https://localhost:8080/"
        },
        "id": "Qes5dqPLyiCi",
        "outputId": "c4a10936-5da9-4f40-d847-1546d8669af5"
      },
      "execution_count": 45,
      "outputs": [
        {
          "output_type": "execute_result",
          "data": {
            "text/plain": [
              "array([0., 0., 1., 0., 1., 0., 1., 0., 1., 1.])"
            ]
          },
          "metadata": {},
          "execution_count": 45
        }
      ]
    }
  ]
}