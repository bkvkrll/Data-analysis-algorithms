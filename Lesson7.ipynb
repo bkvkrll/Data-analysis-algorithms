{
  "nbformat": 4,
  "nbformat_minor": 0,
  "metadata": {
    "colab": {
      "name": "Lesson7.ipynb",
      "provenance": [],
      "authorship_tag": "ABX9TyPyOy+AuGEtENJb0IyeVjLG",
      "include_colab_link": true
    },
    "kernelspec": {
      "name": "python3",
      "display_name": "Python 3"
    },
    "language_info": {
      "name": "python"
    }
  },
  "cells": [
    {
      "cell_type": "markdown",
      "metadata": {
        "id": "view-in-github",
        "colab_type": "text"
      },
      "source": [
        "<a href=\"https://colab.research.google.com/github/bkvkrll/Data-analysis-algorithms/blob/main/Lesson7.ipynb\" target=\"_parent\"><img src=\"https://colab.research.google.com/assets/colab-badge.svg\" alt=\"Open In Colab\"/></a>"
      ]
    },
    {
      "cell_type": "markdown",
      "source": [
        " К алгоритму kNN, реализованному на уроке, реализовать добавление весов для соседей по любому из показанных на уроке принципов."
      ],
      "metadata": {
        "id": "4BvKvKYoKeXm"
      }
    },
    {
      "cell_type": "code",
      "execution_count": 15,
      "metadata": {
        "id": "69g7cVk5Jle2"
      },
      "outputs": [],
      "source": [
        "import numpy as np\n",
        "from sklearn.model_selection import train_test_split\n",
        "from sklearn.datasets import load_iris\n",
        "import matplotlib.pyplot as plt\n",
        "from matplotlib.colors import ListedColormap\n",
        "import matplotlib.pyplot as plt\n",
        "import numpy as np\n",
        "\n",
        "import warnings\n",
        "warnings.filterwarnings('ignore')"
      ]
    },
    {
      "cell_type": "code",
      "source": [
        "X, y = load_iris(return_X_y=True)\n",
        "\n",
        "# Для наглядности возьмем только первые два признака (всего в датасете их 4)\n",
        "X = X[:, :2]"
      ],
      "metadata": {
        "id": "ScFnVyjjKfxo"
      },
      "execution_count": 16,
      "outputs": []
    },
    {
      "cell_type": "code",
      "source": [
        "X_train, X_test, y_train, y_test = train_test_split(X, y,\n",
        "                                                    test_size=0.2,\n",
        "                                                    random_state=1,\n",
        "                                                    stratify=y)\n",
        "X_train.shape, X_test.shape"
      ],
      "metadata": {
        "colab": {
          "base_uri": "https://localhost:8080/"
        },
        "id": "5dPWgzWxLJUq",
        "outputId": "fe2a5725-c493-44e6-edf2-e391f39c5575"
      },
      "execution_count": 17,
      "outputs": [
        {
          "output_type": "execute_result",
          "data": {
            "text/plain": [
              "((120, 2), (30, 2))"
            ]
          },
          "metadata": {},
          "execution_count": 17
        }
      ]
    },
    {
      "cell_type": "code",
      "source": [
        "cmap = ListedColormap(['red', 'green', 'blue'])\n",
        "plt.figure(figsize=(7, 7))\n",
        "plt.scatter(X[:, 0], X[:, 1], c=y, cmap=cmap);"
      ],
      "metadata": {
        "colab": {
          "base_uri": "https://localhost:8080/",
          "height": 430
        },
        "id": "DBEt5unRLNqk",
        "outputId": "b64fb38e-61e4-485e-fee7-f321aac89aae"
      },
      "execution_count": 18,
      "outputs": [
        {
          "output_type": "display_data",
          "data": {
            "image/png": "[encoded data removed]",
            "text/plain": [
              "<Figure size 504x504 with 1 Axes>"
            ]
          },
          "metadata": {
            "needs_background": "light"
          }
        }
      ]
    },
    {
      "cell_type": "code",
      "source": [
        "def e_metrics(x1, x2):\n",
        "    \n",
        "    distance = np.sum(np.square(x1 - x2))\n",
        "\n",
        "    return np.sqrt(distance)"
      ],
      "metadata": {
        "id": "1fDlGdd7LYsn"
      },
      "execution_count": 19,
      "outputs": []
    },
    {
      "cell_type": "code",
      "source": [
        "def knn(x_train, y_train, x_test, k):\n",
        "    \n",
        "    answers = []\n",
        "    for x in x_test:\n",
        "        test_distances = []\n",
        "            \n",
        "        for i in range(len(x_train)):\n",
        "            \n",
        "            # расчет расстояния от классифицируемого объекта до\n",
        "            # объекта обучающей выборки\n",
        "            distance = e_metrics(x, x_train[i])\n",
        "            \n",
        "            # Записываем в список значение расстояния и ответа на объекте обучающей выборки\n",
        "            test_distances.append((distance, y_train[i]))\n",
        "        \n",
        "        # создаем словарь со всеми возможными классами\n",
        "        classes = {class_item: 0 for class_item in set(y_train)}\n",
        "        \n",
        "        # Сортируем список и среди первых k элементов подсчитаем частоту появления разных классов\n",
        "        for d in sorted(test_distances)[0:k]:\n",
        "            classes[d[1]] += 1\n",
        "\n",
        "        # Записываем в список ответов наиболее часто встречающийся класс\n",
        "        answers.append(sorted(classes, key=classes.get)[-1])\n",
        "        \n",
        "    return answers"
      ],
      "metadata": {
        "id": "C23BJpmALfje"
      },
      "execution_count": 20,
      "outputs": []
    },
    {
      "cell_type": "code",
      "source": [
        "def accuracy(pred, y):\n",
        "    return (sum(pred == y) / len(y))"
      ],
      "metadata": {
        "id": "hIICjiS4Li5l"
      },
      "execution_count": 21,
      "outputs": []
    },
    {
      "cell_type": "code",
      "source": [
        "k = 2\n",
        "\n",
        "y_pred = knn(X_train, y_train, X_test, k)\n",
        "\n",
        "print(f'Точность алгоритма при k = {k}: {accuracy(y_pred, y_test):.3f}')"
      ],
      "metadata": {
        "colab": {
          "base_uri": "https://localhost:8080/"
        },
        "id": "9vLwo7PFLqIl",
        "outputId": "0c78aaa2-6e5c-432c-bcb3-7ed4225ad0ec"
      },
      "execution_count": 22,
      "outputs": [
        {
          "output_type": "stream",
          "name": "stdout",
          "text": [
            "Точность алгоритма при k = 2: 0.733\n"
          ]
        }
      ]
    },
    {
      "cell_type": "code",
      "source": [
        "k = 10\n",
        "\n",
        "y_pred = knn(X_train, y_train, X_test, k)\n",
        "\n",
        "print(f'Точность алгоритма при k = {k}: {accuracy(y_pred, y_test):.3f}')"
      ],
      "metadata": {
        "colab": {
          "base_uri": "https://localhost:8080/"
        },
        "id": "MKeQssQBMUC4",
        "outputId": "51da289f-5e43-40cc-d514-6f5a65ed4420"
      },
      "execution_count": 23,
      "outputs": [
        {
          "output_type": "stream",
          "name": "stdout",
          "text": [
            "Точность алгоритма при k = 10: 0.767\n"
          ]
        }
      ]
    },
    {
      "cell_type": "code",
      "source": [
        "def get_graph(X_train, y_train, k):\n",
        "    cmap_light = ListedColormap(['#FFAAAA', '#AAFFAA','#00AAFF'])\n",
        "\n",
        "    h = .1\n",
        "\n",
        "    # Расчет пределов графика\n",
        "    x_min, x_max = X_train[:, 0].min() - 1, X_train[:, 0].max() + 1\n",
        "    y_min, y_max = X_train[:, 1].min() - 1, X_train[:, 1].max() + 1\n",
        "    xx, yy = np.meshgrid(np.arange(x_min, x_max, h), np.arange(y_min, y_max, h))\n",
        "    print(np.c_[xx.ravel(), yy.ravel()].shape)\n",
        "\n",
        "    # Получим предсказания для всех точек\n",
        "    Z = knn(X_train, y_train, np.c_[xx.ravel(), yy.ravel()], k)\n",
        "    # Построим график\n",
        "    Z = np.array(Z).reshape(xx.shape)\n",
        "    plt.figure(figsize=(7,7))\n",
        "    plt.pcolormesh(xx, yy, Z, cmap=cmap_light)\n",
        "\n",
        "    # Добавим на график обучающую выборку\n",
        "    plt.scatter(X_train[:, 0], X_train[:, 1], c=y_train, cmap=cmap)\n",
        "    plt.xlim(xx.min(), xx.max())\n",
        "    plt.ylim(yy.min(), yy.max())\n",
        "    plt.title(f\"Трехклассовая kNN классификация при k = {k}\")\n",
        "    plt.show()"
      ],
      "metadata": {
        "id": "q_rm0XPILssr"
      },
      "execution_count": 24,
      "outputs": []
    },
    {
      "cell_type": "code",
      "source": [
        "%%time\n",
        "get_graph(X_train, y_train, k)"
      ],
      "metadata": {
        "colab": {
          "base_uri": "https://localhost:8080/",
          "height": 498
        },
        "id": "uvJyNwIALvmj",
        "outputId": "2c69fb82-b2d6-4f6f-9fd1-6e2491c5603d"
      },
      "execution_count": 25,
      "outputs": [
        {
          "output_type": "stream",
          "name": "stdout",
          "text": [
            "(2352, 2)\n"
          ]
        },
        {
          "output_type": "display_data",
          "data": {
            "image/png": "[encoded data removed]",
            "text/plain": [
              "<Figure size 504x504 with 1 Axes>"
            ]
          },
          "metadata": {
            "needs_background": "light"
          }
        },
        {
          "output_type": "stream",
          "name": "stdout",
          "text": [
            "CPU times: user 3.09 s, sys: 18.3 ms, total: 3.11 s\n",
            "Wall time: 3.15 s\n"
          ]
        }
      ]
    },
    {
      "cell_type": "markdown",
      "source": [
        "Написать функцию подсчета метрики качества кластеризации как среднее квадратичное внутрикластерное расстояние и построить график ее зависимости от количества кластеров k (взять от 1 до 10) для выборки данных из данного урока (создать датасет, как в методичке)"
      ],
      "metadata": {
        "id": "eGHIk7QnNv4V"
      }
    },
    {
      "cell_type": "code",
      "source": [
        "from sklearn.datasets import make_blobs, make_moons\n",
        "\n",
        "X, y = make_blobs(n_samples=100, random_state=1)\n"
      ],
      "metadata": {
        "id": "HklmdxsdN1Vw"
      },
      "execution_count": 26,
      "outputs": []
    },
    {
      "cell_type": "code",
      "source": [
        "plt.figure(figsize=(7, 7))\n",
        "plt.scatter(X[:, 0], X[:, 1]);"
      ],
      "metadata": {
        "colab": {
          "base_uri": "https://localhost:8080/",
          "height": 427
        },
        "id": "Gy_rYoomOCz5",
        "outputId": "1a30e488-747d-4dde-a648-aa65d9cefc54"
      },
      "execution_count": 27,
      "outputs": [
        {
          "output_type": "display_data",
          "data": {
            "image/png": "[encoded data removed]",
            "text/plain": [
              "<Figure size 504x504 with 1 Axes>"
            ]
          },
          "metadata": {
            "needs_background": "light"
          }
        }
      ]
    },
    {
      "cell_type": "code",
      "source": [
        "def mean_squ_metrics(x1, x2):\n",
        "    distance = 0\n",
        "    for i in range(len(x1)):\n",
        "        distance += np.square(x1[i] - x2[i])\n",
        "    return np.mean(distance)"
      ],
      "metadata": {
        "id": "NQWiYytzN7B4"
      },
      "execution_count": 40,
      "outputs": []
    },
    {
      "cell_type": "code",
      "source": [
        "def kmeans(data, k, max_iterations, min_distance):\n",
        "    # Создадим словарь для классификации\n",
        "    classes = {i: [] for i in range(k)}\n",
        "    \n",
        "    # инициализируем центроиды как первые k элементов датасета\n",
        "    centroids = [data[i] for i in range(k)]\n",
        "    \n",
        "    for _ in range(max_iterations):\n",
        "        # классифицируем объекты по центроидам\n",
        "        for x in data:\n",
        "            # определим расстояния от объекта до каждого центроида\n",
        "            distances = [mean_squ_metrics(x, centroid) for centroid in centroids]\n",
        "            # отнесем объект к кластеру, до центроида которого наименьшее расстояние\n",
        "            classification = distances.index(min(distances))\n",
        "            classes[classification].append(x)\n",
        "            mean_distance = np.mean(min(distances))\n",
        "        \n",
        "        # сохраним предыдущие центроиды в отдельный список для последующего сравнения сновыми\n",
        "        old_centroids = centroids.copy()\n",
        "        \n",
        "        # пересчитаем центроиды как среднее по кластерам\n",
        "        for classification in classes:\n",
        "            centroids[classification] = np.average(classes[classification], axis=0)\n",
        "            \n",
        "        # сравним величину смещения центроидов с минимальной\n",
        "        optimal = True\n",
        "        for centroid in range(len(centroids)):\n",
        "            if np.sum(abs((centroids[centroid] - old_centroids[centroid]) / old_centroids * 100)) > min_distance:\n",
        "                optimal = False\n",
        "                \n",
        "        # если все смещения меньше минимального, останавливаем алгоритм  \n",
        "        if optimal:\n",
        "            break\n",
        "    \n",
        "    return old_centroids, classes, mean_distance"
      ],
      "metadata": {
        "id": "fvGqJ1xGQAlx"
      },
      "execution_count": 41,
      "outputs": []
    },
    {
      "cell_type": "code",
      "source": [
        "k_arr = [1, 2, 3, 4, 5, 6, 7, 8, 9, 10]\n",
        "max_iterations = 5\n",
        "min_distance = 1e-4"
      ],
      "metadata": {
        "id": "alpTL48LQBU0"
      },
      "execution_count": 42,
      "outputs": []
    },
    {
      "cell_type": "code",
      "source": [
        "mean_ = []\n",
        "for k in k_arr:\n",
        "    centroids, clusters, mean_distance = kmeans(X, k, max_iterations, min_distance)\n",
        "    mean_.append(mean_distance)"
      ],
      "metadata": {
        "id": "X3QuR55wQFx8"
      },
      "execution_count": 45,
      "outputs": []
    },
    {
      "cell_type": "code",
      "source": [
        "plt.plot(k_arr, mean_)"
      ],
      "metadata": {
        "colab": {
          "base_uri": "https://localhost:8080/",
          "height": 283
        },
        "id": "5M2wBdJ2QKBD",
        "outputId": "721e26fe-4eae-4a7f-d0c4-25b2cfb599c9"
      },
      "execution_count": 46,
      "outputs": [
        {
          "output_type": "execute_result",
          "data": {
            "text/plain": [
              "[<matplotlib.lines.Line2D at 0x7f7023314a10>]"
            ]
          },
          "metadata": {},
          "execution_count": 46
        },
        {
          "output_type": "display_data",
          "data": {
            "image/png": "[encoded data removed]",
            "text/plain": [
              "<Figure size 432x288 with 1 Axes>"
            ]
          },
          "metadata": {
            "needs_background": "light"
          }
        }
      ]
    }
  ]
}