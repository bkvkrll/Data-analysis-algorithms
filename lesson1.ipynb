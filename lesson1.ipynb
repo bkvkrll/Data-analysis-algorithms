{
  "nbformat": 4,
  "nbformat_minor": 0,
  "metadata": {
    "colab": {
      "name": "lesson1.ipynb",
      "provenance": [],
      "collapsed_sections": [],
      "authorship_tag": "ABX9TyN7h1KT9wlXKQJAN42nKMnw",
      "include_colab_link": true
    },
    "kernelspec": {
      "name": "python3",
      "display_name": "Python 3"
    },
    "language_info": {
      "name": "python"
    }
  },
  "cells": [
    {
      "cell_type": "markdown",
      "metadata": {
        "id": "view-in-github",
        "colab_type": "text"
      },
      "source": [
        "<a href=\"https://colab.research.google.com/github/bkvkrll/Data-analysis-algorithms/blob/main/lesson1.ipynb\" target=\"_parent\"><img src=\"https://colab.research.google.com/assets/colab-badge.svg\" alt=\"Open In Colab\"/></a>"
      ]
    },
    {
      "cell_type": "markdown",
      "source": [
        "Подберите скорость обучения (eta) и количество итераций"
      ],
      "metadata": {
        "id": "Qx2rxcr2N8iS"
      }
    },
    {
      "cell_type": "code",
      "source": [
        "import numpy as np\n",
        "import matplotlib.pyplot as plt"
      ],
      "metadata": {
        "id": "CIaxete8OaZh"
      },
      "execution_count": 53,
      "outputs": []
    },
    {
      "cell_type": "code",
      "source": [
        "X = np.array([[ 1,  1],\n",
        "              [ 1,  1],\n",
        "              [ 1,  2],\n",
        "              [ 1,  5],\n",
        "              [ 1,  3],\n",
        "              [ 1,  0],\n",
        "              [ 1,  5],\n",
        "              [ 1, 10],\n",
        "              [ 1,  1],\n",
        "              [ 1,  2]])"
      ],
      "metadata": {
        "id": "ItnpP02cOo0P"
      },
      "execution_count": 54,
      "outputs": []
    },
    {
      "cell_type": "code",
      "source": [
        "y = [45, 55, 50, 55, 60, 35, 75, 80, 50, 60]"
      ],
      "metadata": {
        "id": "omBPb-yHPAi2"
      },
      "execution_count": 55,
      "outputs": []
    },
    {
      "cell_type": "code",
      "source": [
        "y_pred1 = 5 * X[:, 1] + 35 * X[:, 0] \n",
        "y_pred2 = 7.5 * X[:, 1] + 40 * X[:, 0]"
      ],
      "metadata": {
        "id": "jusZbbDkPBVf"
      },
      "execution_count": 56,
      "outputs": []
    },
    {
      "cell_type": "code",
      "source": [
        "mae_1 = np.mean(np.abs(y - y_pred1))\n",
        "mae_2 = np.mean(np.abs(y - y_pred2))\n",
        "mae_1, mae_2"
      ],
      "metadata": {
        "colab": {
          "base_uri": "https://localhost:8080/"
        },
        "id": "uendav5kQp_q",
        "outputId": "cb6cf8da-436c-4df8-a4f5-60d5498b2093"
      },
      "execution_count": 57,
      "outputs": [
        {
          "output_type": "execute_result",
          "data": {
            "text/plain": [
              "(8.5, 9.0)"
            ]
          },
          "metadata": {},
          "execution_count": 57
        }
      ]
    },
    {
      "cell_type": "code",
      "source": [
        "mse_1 = np.mean((y - y_pred1)**2)\n",
        "mse_2 = np.mean((y - y_pred2)**2)\n",
        "mse_1, mse_2"
      ],
      "metadata": {
        "colab": {
          "base_uri": "https://localhost:8080/"
        },
        "id": "m0vcY2YBQtqg",
        "outputId": "70c07de9-b22d-4104-cecf-98ff0d136b62"
      },
      "execution_count": 58,
      "outputs": [
        {
          "output_type": "execute_result",
          "data": {
            "text/plain": [
              "(97.5, 188.75)"
            ]
          },
          "metadata": {},
          "execution_count": 58
        }
      ]
    },
    {
      "cell_type": "code",
      "source": [
        "def calc_mae(y, y_pred):\n",
        "    err = np.mean(np.abs(y - y_pred))\n",
        "    return err\n",
        "\n",
        "def calc_mse(y, y_pred):\n",
        "    err = np.mean((y - y_pred)**2)\n",
        "    return err"
      ],
      "metadata": {
        "id": "rojBr0_aQvw_"
      },
      "execution_count": 59,
      "outputs": []
    },
    {
      "cell_type": "code",
      "source": [
        "W_analytical = np.linalg.inv(np.dot(X.T, X)) @ X.T @ y\n",
        "W_analytical"
      ],
      "metadata": {
        "colab": {
          "base_uri": "https://localhost:8080/"
        },
        "id": "Zan5Db9tRINP",
        "outputId": "da3a90b7-5b32-4113-ba7b-52c6ec79b871"
      },
      "execution_count": 60,
      "outputs": [
        {
          "output_type": "execute_result",
          "data": {
            "text/plain": [
              "array([45.0625,  3.8125])"
            ]
          },
          "metadata": {},
          "execution_count": 60
        }
      ]
    },
    {
      "cell_type": "code",
      "source": [
        "y_pred_analytical = W_analytical[0] * X[:, 0] + W_analytical[1] * X[:, 1]\n",
        "y_pred_analytical = X @ W_analytical"
      ],
      "metadata": {
        "id": "z3VhLftNRIw-"
      },
      "execution_count": 61,
      "outputs": []
    },
    {
      "cell_type": "code",
      "source": [
        "calc_mae(y, y_pred1), calc_mse(y, y_pred1)"
      ],
      "metadata": {
        "colab": {
          "base_uri": "https://localhost:8080/"
        },
        "id": "q5kLmWX-Q10s",
        "outputId": "4cf8350d-5ba2-4f53-b651-8a15110c87ce"
      },
      "execution_count": 62,
      "outputs": [
        {
          "output_type": "execute_result",
          "data": {
            "text/plain": [
              "(8.5, 97.5)"
            ]
          },
          "metadata": {},
          "execution_count": 62
        }
      ]
    },
    {
      "cell_type": "code",
      "source": [
        "calc_mae(y, y_pred2), calc_mse(y, y_pred2)"
      ],
      "metadata": {
        "colab": {
          "base_uri": "https://localhost:8080/"
        },
        "id": "FEAK4CCJQ8qq",
        "outputId": "75ead0db-16dc-4580-d173-720f679a2f10"
      },
      "execution_count": 63,
      "outputs": [
        {
          "output_type": "execute_result",
          "data": {
            "text/plain": [
              "(9.0, 188.75)"
            ]
          },
          "metadata": {},
          "execution_count": 63
        }
      ]
    },
    {
      "cell_type": "code",
      "source": [
        "calc_mae(y, y_pred_analytical), calc_mse(y, y_pred_analytical)"
      ],
      "metadata": {
        "colab": {
          "base_uri": "https://localhost:8080/"
        },
        "id": "uIRBdWWYQ_Ja",
        "outputId": "ca9a84ae-205d-4561-9d56-435c7d8900a0"
      },
      "execution_count": 64,
      "outputs": [
        {
          "output_type": "execute_result",
          "data": {
            "text/plain": [
              "(5.787499999999998, 43.96875)"
            ]
          },
          "metadata": {},
          "execution_count": 64
        }
      ]
    },
    {
      "cell_type": "code",
      "source": [
        "n = X.shape[0]\n",
        "\n",
        "eta = 1e-2 \n",
        "n_iter = 100\n",
        "\n",
        "W = np.array([1, 0.5])\n",
        "print(f'Number of objects = {n} \\\n",
        "       \\nLearning rate = {eta} \\\n",
        "       \\nInitial weights = {W} \\n')\n",
        "\n",
        "for i in range(n_iter):\n",
        "    y_pred = np.dot(X, W)\n",
        "    err = calc_mse(y, y_pred)\n",
        "    for k in range(W.shape[0]):\n",
        "        W[k] -= eta * (1/n * 2 * X[:, k] @ (y_pred - y))\n",
        "    if i % 10 == 0:\n",
        "        eta /= 1.1\n",
        "        print(f'Iteration #{i}: W_new = {W}, MSE = {round(err, 2)}')"
      ],
      "metadata": {
        "colab": {
          "base_uri": "https://localhost:8080/"
        },
        "id": "P4TuEcBNXClG",
        "outputId": "a5ecceaf-3ba2-4eaf-c39b-ca49845eb801"
      },
      "execution_count": 66,
      "outputs": [
        {
          "output_type": "stream",
          "name": "stdout",
          "text": [
            "Number of objects = 10        \n",
            "Learning rate = 0.01        \n",
            "Initial weights = [1.  0.5] \n",
            "\n",
            "Iteration #0: W_new = [2.08 4.27], MSE = 3047.75\n",
            "Iteration #10: W_new = [ 6.67106886 10.61676385], MSE = 749.71\n",
            "Iteration #20: W_new = [ 9.49320908 10.25731657], MSE = 648.91\n",
            "Iteration #30: W_new = [11.85740092  9.83349244], MSE = 570.46\n",
            "Iteration #40: W_new = [13.86876921  9.46898661], MSE = 508.03\n",
            "Iteration #50: W_new = [15.59085668  9.15672679], MSE = 457.73\n",
            "Iteration #60: W_new = [17.07337653  8.88789585], MSE = 416.77\n",
            "Iteration #70: W_new = [18.35601294  8.65530964], MSE = 383.06\n",
            "Iteration #80: W_new = [19.47073522  8.45317196], MSE = 355.08\n",
            "Iteration #90: W_new = [20.44350656  8.27677488], MSE = 331.65\n"
          ]
        }
      ]
    },
    {
      "cell_type": "code",
      "source": [
        "def grad(eta, n_iter, W, X=X, y=y):\n",
        "    n = X.shape[0]\n",
        "    err = np.inf\n",
        "    for i in range(n_iter):\n",
        "        y_pred = np.dot(X, W)\n",
        "        err_new = calc_mse(y, y_pred)\n",
        "        if err_new < err:\n",
        "            err = err_new\n",
        "            for k in range(W.shape[0]):\n",
        "                W[k] -= eta * (1/n * 2 * X[:, k] @ (y_pred - y)) \n",
        "        else:\n",
        "            return i-1, W, err\n",
        "    return i, W, err"
      ],
      "metadata": {
        "id": "ZloSuF3fXFRS"
      },
      "execution_count": 82,
      "outputs": []
    },
    {
      "cell_type": "code",
      "source": [
        "min_err = np.inf\n",
        "min_coef = ()\n",
        "\n",
        "for eta in [1e-1, 1e-2, 1e-3, 1e-4]:\n",
        "    for it in [1e3, 1e4, 1e5, 1e6]:\n",
        "        W = np.array([1, 0.5])\n",
        "        num, wi, err = grad(eta, int(it), W)\n",
        "        print(f'eta = {eta}, iteration = {it}. MSE: {err}')\n",
        "        if err < min_err:\n",
        "            min_err = err\n",
        "            min_coef = (eta, it)\n",
        "\n",
        "print(f'min MSE {min_err} coef {min_coef}')"
      ],
      "metadata": {
        "colab": {
          "base_uri": "https://localhost:8080/"
        },
        "id": "B0Dsg8NhXKSy",
        "outputId": "f86fdbff-dbba-4b70-d515-ed246f69417a"
      },
      "execution_count": 85,
      "outputs": [
        {
          "output_type": "stream",
          "name": "stdout",
          "text": [
            "eta = 0.1, iteration = 1000.0. MSE: 3047.75\n",
            "eta = 0.1, iteration = 10000.0. MSE: 3047.75\n",
            "eta = 0.1, iteration = 100000.0. MSE: 3047.75\n",
            "eta = 0.1, iteration = 1000000.0. MSE: 3047.75\n",
            "eta = 0.01, iteration = 1000.0. MSE: 43.96875935998759\n",
            "eta = 0.01, iteration = 10000.0. MSE: 43.968750000001435\n",
            "eta = 0.01, iteration = 100000.0. MSE: 43.968750000001435\n",
            "eta = 0.01, iteration = 1000000.0. MSE: 43.968750000001435\n",
            "eta = 0.001, iteration = 1000.0. MSE: 178.68218642130688\n",
            "eta = 0.001, iteration = 10000.0. MSE: 43.96875992746433\n",
            "eta = 0.001, iteration = 100000.0. MSE: 43.96875000001047\n",
            "eta = 0.001, iteration = 1000000.0. MSE: 43.96875000001047\n",
            "eta = 0.0001, iteration = 1000.0. MSE: 740.9067599479888\n",
            "eta = 0.0001, iteration = 10000.0. MSE: 178.56189362246133\n",
            "eta = 0.0001, iteration = 100000.0. MSE: 43.96875998569194\n",
            "eta = 0.0001, iteration = 1000000.0. MSE: 43.96875000016706\n",
            "min MSE 43.968750000001435 coef (0.01, 10000.0)\n"
          ]
        }
      ]
    }
  ]
}